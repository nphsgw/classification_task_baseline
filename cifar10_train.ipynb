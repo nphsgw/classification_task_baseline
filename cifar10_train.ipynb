{
 "cells": [
  {
   "cell_type": "code",
   "execution_count": 23,
   "metadata": {},
   "outputs": [],
   "source": [
    "import os\n",
    "import torch, torch.utils, torch.utils.data\n",
    "import torchvision\n",
    "import torch.backends.cudnn as cudnn\n",
    "import config, datasets,dataloaders, trainer, model_manager, inference, metric\n",
    "\n",
    "import importlib\n",
    "# importlib.reload(config)\n",
    "\n",
    "cudnn.benchmark = True"
   ]
  },
  {
   "cell_type": "code",
   "execution_count": 24,
   "metadata": {},
   "outputs": [],
   "source": [
    "# Initialize the configuration\n",
    "conf = config.Config(\n",
    "    num_classes=10,  # CIFAR10 classes\n",
    "    train_ratio=0.8,\n",
    "    val_ratio=0.2,\n",
    "    num_epochs=20,\n",
    "    lr=0.01,\n",
    "    batch_size=64,\n",
    "    num_workers=4,\n",
    "    device=torch.device(\"cuda:0\"),\n",
    "    momentum=0.0001,\n",
    "    weight_decay=0.0001,\n",
    "    train_dir=\"data/train/\",\n",
    "    test_dir=\"data/test/\",\n",
    "    log_dir=\"./log/\",\n",
    "    checkpoint_dir=\"./log/checkpoint/\",\n",
    "    metric_file_path=\"./log/metric_results.json\",\n",
    ")\n",
    "os.makedirs(conf.checkpoint_dir, exist_ok=True)"
   ]
  },
  {
   "cell_type": "code",
   "execution_count": 25,
   "metadata": {},
   "outputs": [],
   "source": [
    "# Define the data transformation pipeline for the training set\n",
    "train_transform = torchvision.transforms.Compose(\n",
    "    [\n",
    "        torchvision.transforms.RandAugment(),\n",
    "        torchvision.transforms.ToTensor(),\n",
    "        # https://github.com/facebookarchive/fb.resnet.torch/issues/180\n",
    "        torchvision.transforms.Normalize([0.4914, 0.4822, 0.4465], [0.2470, 0.2435, 0.2616]),\n",
    "    ]\n",
    ")\n",
    "# Define the data transformation pipeline for the test set\n",
    "test_transform = torchvision.transforms.Compose(\n",
    "    [\n",
    "        torchvision.transforms.ToTensor(),\n",
    "        # https://github.com/facebookarchive/fb.resnet.torch/issues/180\n",
    "        torchvision.transforms.Normalize([0.4914, 0.4822, 0.4465], [0.2470, 0.2435, 0.2616]),\n",
    "    ]\n",
    ")"
   ]
  },
  {
   "cell_type": "code",
   "execution_count": 26,
   "metadata": {},
   "outputs": [
    {
     "name": "stdout",
     "output_type": "stream",
     "text": [
      "Files already downloaded and verified\n",
      "Files already downloaded and verified\n"
     ]
    }
   ],
   "source": [
    "# Initialize a custom dataset instance for CIFAR10 with specific transformations for training and testing\n",
    "ds = datasets.CustomDatasets(\n",
    "    standard_dataset_name=\"CIFAR10\",\n",
    "    train_transform=train_transform,\n",
    "    test_transform=test_transform,\n",
    ")"
   ]
  },
  {
   "cell_type": "code",
   "execution_count": 27,
   "metadata": {},
   "outputs": [
    {
     "name": "stdout",
     "output_type": "stream",
     "text": [
      "Split train_datasets => split_train_dataset and split_val_dataset\n",
      "ratio train : val = 0.8 : 0.2\n"
     ]
    }
   ],
   "source": [
    "# Create a custom dataset loader with the specified batch size and number of worker processes\n",
    "dl = dataloaders.CustomDatasetLoader(batch_size=conf.batch_size, num_workers=conf.num_workers)\n",
    "# Split the labeled dataset into training and validation sets based on the specified ratios\n",
    "ds.split_labeled_dataset(train_ratio=conf.train_ratio, val_ratio=conf.val_ratio, enable_test_split=False)\n",
    "# Set the test transformation for the validation dataset\n",
    "ds.set_transform(ds.split_val_dataset, ds.test_transform)"
   ]
  },
  {
   "cell_type": "code",
   "execution_count": 28,
   "metadata": {},
   "outputs": [
    {
     "name": "stdout",
     "output_type": "stream",
     "text": [
      "train is set : Compose(\n",
      "    RandAugment(num_ops=2, magnitude=9, num_magnitude_bins=31, interpolation=InterpolationMode.NEAREST, fill=None)\n",
      "    ToTensor()\n",
      "    Normalize(mean=[0.4914, 0.4822, 0.4465], std=[0.247, 0.2435, 0.2616])\n",
      ")\n",
      "val is set : Compose(\n",
      "    ToTensor()\n",
      "    Normalize(mean=[0.4914, 0.4822, 0.4465], std=[0.247, 0.2435, 0.2616])\n",
      ")\n",
      "test is set : Compose(\n",
      "    ToTensor()\n",
      "    Normalize(mean=[0.4914, 0.4822, 0.4465], std=[0.247, 0.2435, 0.2616])\n",
      ")\n"
     ]
    }
   ],
   "source": [
    "# Print the transformations set for the training, validation, and test datasets\n",
    "ds.print_set_transform(ds.split_train_dataset, \"train\")\n",
    "ds.print_set_transform(ds.split_val_dataset, \"val\")\n",
    "ds.print_set_transform(ds.labeled_test_dataset, \"test\")"
   ]
  },
  {
   "cell_type": "code",
   "execution_count": 29,
   "metadata": {},
   "outputs": [],
   "source": [
    "# Build data loaders for the labeled training, validation, and test datasets\n",
    "dl.build_dataloaders(\n",
    "    labeled_train_dataset=ds.split_train_dataset,\n",
    "    labeled_val_dataset=ds.split_val_dataset,\n",
    "    labeled_test_dataset=ds.labeled_test_dataset,\n",
    "    unlabeled_test_dataset=None,\n",
    ")"
   ]
  },
  {
   "cell_type": "code",
   "execution_count": 1,
   "metadata": {},
   "outputs": [
    {
     "ename": "NameError",
     "evalue": "name 'torchvision' is not defined",
     "output_type": "error",
     "traceback": [
      "\u001b[0;31m---------------------------------------------------------------------------\u001b[0m",
      "\u001b[0;31mNameError\u001b[0m                                 Traceback (most recent call last)",
      "Cell \u001b[0;32mIn[1], line 1\u001b[0m\n\u001b[0;32m----> 1\u001b[0m model \u001b[38;5;241m=\u001b[39m \u001b[43mtorchvision\u001b[49m\u001b[38;5;241m.\u001b[39mmodels\u001b[38;5;241m.\u001b[39mresnet50(weights\u001b[38;5;241m=\u001b[39m\u001b[38;5;28;01mNone\u001b[39;00m)\n\u001b[1;32m      2\u001b[0m model\u001b[38;5;241m.\u001b[39mfc \u001b[38;5;241m=\u001b[39m torch\u001b[38;5;241m.\u001b[39mnn\u001b[38;5;241m.\u001b[39mLinear(in_features\u001b[38;5;241m=\u001b[39mmodel\u001b[38;5;241m.\u001b[39mfc\u001b[38;5;241m.\u001b[39min_features, out_features\u001b[38;5;241m=\u001b[39mconf\u001b[38;5;241m.\u001b[39mnum_classes)\n\u001b[1;32m      3\u001b[0m loss_fn \u001b[38;5;241m=\u001b[39m torch\u001b[38;5;241m.\u001b[39mnn\u001b[38;5;241m.\u001b[39mCrossEntropyLoss(weight\u001b[38;5;241m=\u001b[39m\u001b[38;5;28;01mNone\u001b[39;00m)\n",
      "\u001b[0;31mNameError\u001b[0m: name 'torchvision' is not defined"
     ]
    }
   ],
   "source": [
    "# Initialize a ResNet50 model without pre-trained weights\n",
    "model = torchvision.models.resnet50(weights=None)\n",
    "# Replace the fully connected layer with a new one matching the number of classes in the dataset\n",
    "model.fc = torch.nn.Linear(in_features=model.fc.in_features, out_features=conf.num_classes)\n",
    "# Initialize the loss function as CrossEntropyLoss without class weights\n",
    "loss_fn = torch.nn.CrossEntropyLoss(weight=None)\n",
    "# Initialize the optimizer as Stochastic Gradient Descent with specified learning rate, momentum, and weight decay\n",
    "optimizer = torch.optim.SGD(\n",
    "    params=model.parameters(), lr=conf.lr, momentum=conf.momentum, weight_decay=conf.weight_decay\n",
    ")\n",
    "# Calculate the total number of iterations for the learning rate scheduler\n",
    "n_iterations = len(dl.labeled_train_loader) * conf.num_epochs\n",
    "# Initialize the learning rate scheduler as CosineAnnealingLR with the total number of iterations\n",
    "lr_scheduler = torch.optim.lr_scheduler.CosineAnnealingLR(optimizer, n_iterations)\n",
    "# Initialize a ModelManager instance to handle the training, evaluation, and saving of the model\n",
    "mm = model_manager.ModelManager(\n",
    "    model=model, device=conf.device, loss_fn=loss_fn, optimizer=optimizer, lr_scheduler=lr_scheduler\n",
    ")"
   ]
  },
  {
   "cell_type": "code",
   "execution_count": 2,
   "metadata": {},
   "outputs": [
    {
     "ename": "NameError",
     "evalue": "name 'trainer' is not defined",
     "output_type": "error",
     "traceback": [
      "\u001b[0;31m---------------------------------------------------------------------------\u001b[0m",
      "\u001b[0;31mNameError\u001b[0m                                 Traceback (most recent call last)",
      "Cell \u001b[0;32mIn[2], line 1\u001b[0m\n\u001b[0;32m----> 1\u001b[0m trainer \u001b[38;5;241m=\u001b[39m \u001b[43mtrainer\u001b[49m\u001b[38;5;241m.\u001b[39mImageClassificationTrainer(\n\u001b[1;32m      2\u001b[0m     model_manager\u001b[38;5;241m=\u001b[39mmm,\n\u001b[1;32m      3\u001b[0m     train_loader\u001b[38;5;241m=\u001b[39mdl\u001b[38;5;241m.\u001b[39mlabeled_train_loader,\n\u001b[1;32m      4\u001b[0m     val_loader\u001b[38;5;241m=\u001b[39mdl\u001b[38;5;241m.\u001b[39mlabeled_val_loader,\n\u001b[1;32m      5\u001b[0m     total_epochs\u001b[38;5;241m=\u001b[39mconf\u001b[38;5;241m.\u001b[39mnum_epochs,\n\u001b[1;32m      6\u001b[0m     log_dir\u001b[38;5;241m=\u001b[39mconf\u001b[38;5;241m.\u001b[39mlog_dir,\n\u001b[1;32m      7\u001b[0m     checkpoint_dir\u001b[38;5;241m=\u001b[39mconf\u001b[38;5;241m.\u001b[39mcheckpoint_dir,\n\u001b[1;32m      8\u001b[0m )\n",
      "\u001b[0;31mNameError\u001b[0m: name 'trainer' is not defined"
     ]
    }
   ],
   "source": [
    "# Initialize an ImageClassificationTrainer instance for managing the training process\n",
    "trainer = trainer.ImageClassificationTrainer(\n",
    "    model_manager=mm,\n",
    "    train_loader=dl.labeled_train_loader,\n",
    "    val_loader=dl.labeled_val_loader,\n",
    "    total_epochs=conf.num_epochs,\n",
    "    log_dir=conf.log_dir,\n",
    "    checkpoint_dir=conf.checkpoint_dir,\n",
    ")"
   ]
  },
  {
   "cell_type": "code",
   "execution_count": 32,
   "metadata": {},
   "outputs": [
    {
     "name": "stderr",
     "output_type": "stream",
     "text": [
      "100%|██████████| 20/20 [03:16<00:00,  9.80s/it]\n"
     ]
    }
   ],
   "source": [
    "# Start the training process\n",
    "trainer.train()"
   ]
  },
  {
   "cell_type": "code",
   "execution_count": 33,
   "metadata": {},
   "outputs": [
    {
     "name": "stderr",
     "output_type": "stream",
     "text": [
      "  0%|          | 0/157 [00:00<?, ?it/s]"
     ]
    },
    {
     "name": "stderr",
     "output_type": "stream",
     "text": [
      "/home/developer/.local/lib/python3.10/site-packages/torcheval/metrics/functional/classification/accuracy.py:275: UserWarning: The reduce argument of torch.scatter with Tensor src is deprecated and will be removed in a future PyTorch release. Use torch.scatter_reduce instead for more reduction options. (Triggered internally at /opt/conda/conda-bld/pytorch_1682343967769/work/aten/src/ATen/native/TensorAdvancedIndexing.cpp:224.)\n",
      "  num_correct = mask.new_zeros(num_classes).scatter_(0, target, mask, reduce=\"add\")\n",
      "100%|██████████| 157/157 [00:01<00:00, 138.63it/s]\n"
     ]
    }
   ],
   "source": [
    "# Reload the inference module (useful if there have been changes during runtime)\n",
    "#importlib.reload(inference)\n",
    "\n",
    "# Load the trained model weights from the checkpoint file\n",
    "loaded_weights = torch.load(conf.checkpoint_dir + \"model_20.pth\")\n",
    "mm.model.load_state_dict(loaded_weights)\n",
    "test = inference.ImageClassifierInference(\n",
    "    model_manager=mm,\n",
    "    test_loader=dl.labeled_test_loader,\n",
    "    num_classes=conf.num_classes,\n",
    "    metric_file_path=conf.metric_file_path,\n",
    ")\n",
    "# Perform inference on the test dataset and obtain predictions\n",
    "test.predict(is_classes=True)"
   ]
  },
  {
   "cell_type": "code",
   "execution_count": 34,
   "metadata": {},
   "outputs": [
    {
     "data": {
      "text/plain": [
       "<Axes: >"
      ]
     },
     "execution_count": 34,
     "metadata": {},
     "output_type": "execute_result"
    },
    {
     "data": {
      "image/png": "[encoded data removed]",
      "text/plain": [
       "<Figure size 640x480 with 2 Axes>"
      ]
     },
     "metadata": {},
     "output_type": "display_data"
    }
   ],
   "source": [
    "import json\n",
    "import seaborn as sns\n",
    "\n",
    "# Load the computed metrics from the specified file\n",
    "with open(conf.metric_file_path) as f:\n",
    "    metric = json.loads(f.read())\n",
    "# Create a heatmap of the confusion matrix using seaborn\n",
    "sns.heatmap(metric[\"ConfusionMatrix\"], cmap=\"Blues\")"
   ]
  },
  {
   "cell_type": "code",
   "execution_count": 35,
   "metadata": {},
   "outputs": [
    {
     "data": {
      "text/html": [
       "<div>\n",
       "<style scoped>\n",
       "    .dataframe tbody tr th:only-of-type {\n",
       "        vertical-align: middle;\n",
       "    }\n",
       "\n",
       "    .dataframe tbody tr th {\n",
       "        vertical-align: top;\n",
       "    }\n",
       "\n",
       "    .dataframe thead th {\n",
       "        text-align: right;\n",
       "    }\n",
       "</style>\n",
       "<table border=\"1\" class=\"dataframe\">\n",
       "  <thead>\n",
       "    <tr style=\"text-align: right;\">\n",
       "      <th></th>\n",
       "      <th>Accuracy</th>\n",
       "      <th>Precision</th>\n",
       "      <th>Recall</th>\n",
       "      <th>F1</th>\n",
       "      <th>AUROC</th>\n",
       "      <th>AUPRC</th>\n",
       "      <th>Accuracy_per_class</th>\n",
       "      <th>Precision_per_class</th>\n",
       "      <th>Recall_per_class</th>\n",
       "      <th>F1_per_class</th>\n",
       "      <th>AUROC_per_class</th>\n",
       "      <th>AUPRC_per_class</th>\n",
       "      <th>ConfusionMatrix</th>\n",
       "    </tr>\n",
       "  </thead>\n",
       "  <tbody>\n",
       "    <tr>\n",
       "      <th>airplane</th>\n",
       "      <td>0.579</td>\n",
       "      <td>0.573456</td>\n",
       "      <td>0.579</td>\n",
       "      <td>0.574579</td>\n",
       "      <td>0.916095</td>\n",
       "      <td>0.625618</td>\n",
       "      <td>0.669</td>\n",
       "      <td>0.640805</td>\n",
       "      <td>0.669</td>\n",
       "      <td>0.654599</td>\n",
       "      <td>0.939190</td>\n",
       "      <td>0.720367</td>\n",
       "      <td>[669.0, 26.0, 59.0, 22.0, 15.0, 8.0, 25.0, 15....</td>\n",
       "    </tr>\n",
       "    <tr>\n",
       "      <th>automobile</th>\n",
       "      <td>0.579</td>\n",
       "      <td>0.573456</td>\n",
       "      <td>0.579</td>\n",
       "      <td>0.574579</td>\n",
       "      <td>0.916095</td>\n",
       "      <td>0.625618</td>\n",
       "      <td>0.683</td>\n",
       "      <td>0.698364</td>\n",
       "      <td>0.683</td>\n",
       "      <td>0.690597</td>\n",
       "      <td>0.960154</td>\n",
       "      <td>0.760155</td>\n",
       "      <td>[36.0, 683.0, 9.0, 11.0, 6.0, 8.0, 16.0, 12.0,...</td>\n",
       "    </tr>\n",
       "    <tr>\n",
       "      <th>bird</th>\n",
       "      <td>0.579</td>\n",
       "      <td>0.573456</td>\n",
       "      <td>0.579</td>\n",
       "      <td>0.574579</td>\n",
       "      <td>0.916095</td>\n",
       "      <td>0.625618</td>\n",
       "      <td>0.402</td>\n",
       "      <td>0.470726</td>\n",
       "      <td>0.402</td>\n",
       "      <td>0.433657</td>\n",
       "      <td>0.847317</td>\n",
       "      <td>0.442928</td>\n",
       "      <td>[75.0, 15.0, 402.0, 98.0, 120.0, 100.0, 92.0, ...</td>\n",
       "    </tr>\n",
       "    <tr>\n",
       "      <th>cat</th>\n",
       "      <td>0.579</td>\n",
       "      <td>0.573456</td>\n",
       "      <td>0.579</td>\n",
       "      <td>0.574579</td>\n",
       "      <td>0.916095</td>\n",
       "      <td>0.625618</td>\n",
       "      <td>0.392</td>\n",
       "      <td>0.426551</td>\n",
       "      <td>0.392</td>\n",
       "      <td>0.408546</td>\n",
       "      <td>0.862802</td>\n",
       "      <td>0.394915</td>\n",
       "      <td>[24.0, 18.0, 75.0, 392.0, 63.0, 207.0, 111.0, ...</td>\n",
       "    </tr>\n",
       "    <tr>\n",
       "      <th>deer</th>\n",
       "      <td>0.579</td>\n",
       "      <td>0.573456</td>\n",
       "      <td>0.579</td>\n",
       "      <td>0.574579</td>\n",
       "      <td>0.916095</td>\n",
       "      <td>0.625618</td>\n",
       "      <td>0.430</td>\n",
       "      <td>0.500582</td>\n",
       "      <td>0.430</td>\n",
       "      <td>0.462614</td>\n",
       "      <td>0.883985</td>\n",
       "      <td>0.497967</td>\n",
       "      <td>[45.0, 10.0, 120.0, 60.0, 430.0, 61.0, 129.0, ...</td>\n",
       "    </tr>\n",
       "    <tr>\n",
       "      <th>dog</th>\n",
       "      <td>0.579</td>\n",
       "      <td>0.573456</td>\n",
       "      <td>0.579</td>\n",
       "      <td>0.574579</td>\n",
       "      <td>0.916095</td>\n",
       "      <td>0.625618</td>\n",
       "      <td>0.463</td>\n",
       "      <td>0.472449</td>\n",
       "      <td>0.463</td>\n",
       "      <td>0.467677</td>\n",
       "      <td>0.892084</td>\n",
       "      <td>0.505102</td>\n",
       "      <td>[14.0, 8.0, 86.0, 190.0, 52.0, 463.0, 62.0, 99...</td>\n",
       "    </tr>\n",
       "    <tr>\n",
       "      <th>frog</th>\n",
       "      <td>0.579</td>\n",
       "      <td>0.573456</td>\n",
       "      <td>0.579</td>\n",
       "      <td>0.574579</td>\n",
       "      <td>0.916095</td>\n",
       "      <td>0.625618</td>\n",
       "      <td>0.740</td>\n",
       "      <td>0.589641</td>\n",
       "      <td>0.740</td>\n",
       "      <td>0.656319</td>\n",
       "      <td>0.944647</td>\n",
       "      <td>0.730646</td>\n",
       "      <td>[11.0, 15.0, 46.0, 51.0, 71.0, 23.0, 740.0, 21...</td>\n",
       "    </tr>\n",
       "    <tr>\n",
       "      <th>horse</th>\n",
       "      <td>0.579</td>\n",
       "      <td>0.573456</td>\n",
       "      <td>0.579</td>\n",
       "      <td>0.574579</td>\n",
       "      <td>0.916095</td>\n",
       "      <td>0.625618</td>\n",
       "      <td>0.626</td>\n",
       "      <td>0.613124</td>\n",
       "      <td>0.626</td>\n",
       "      <td>0.619495</td>\n",
       "      <td>0.930082</td>\n",
       "      <td>0.705837</td>\n",
       "      <td>[27.0, 11.0, 27.0, 61.0, 82.0, 98.0, 29.0, 626...</td>\n",
       "    </tr>\n",
       "    <tr>\n",
       "      <th>ship</th>\n",
       "      <td>0.579</td>\n",
       "      <td>0.573456</td>\n",
       "      <td>0.579</td>\n",
       "      <td>0.574579</td>\n",
       "      <td>0.916095</td>\n",
       "      <td>0.625618</td>\n",
       "      <td>0.759</td>\n",
       "      <td>0.695692</td>\n",
       "      <td>0.759</td>\n",
       "      <td>0.725968</td>\n",
       "      <td>0.962261</td>\n",
       "      <td>0.803283</td>\n",
       "      <td>[97.0, 40.0, 17.0, 20.0, 12.0, 4.0, 6.0, 4.0, ...</td>\n",
       "    </tr>\n",
       "    <tr>\n",
       "      <th>truck</th>\n",
       "      <td>0.579</td>\n",
       "      <td>0.573456</td>\n",
       "      <td>0.579</td>\n",
       "      <td>0.574579</td>\n",
       "      <td>0.916095</td>\n",
       "      <td>0.625618</td>\n",
       "      <td>0.626</td>\n",
       "      <td>0.626627</td>\n",
       "      <td>0.626</td>\n",
       "      <td>0.626313</td>\n",
       "      <td>0.938425</td>\n",
       "      <td>0.694984</td>\n",
       "      <td>[46.0, 152.0, 13.0, 14.0, 8.0, 8.0, 45.0, 27.0...</td>\n",
       "    </tr>\n",
       "  </tbody>\n",
       "</table>\n",
       "</div>"
      ],
      "text/plain": [
       "            Accuracy  Precision  Recall        F1     AUROC     AUPRC  \\\n",
       "airplane       0.579   0.573456   0.579  0.574579  0.916095  0.625618   \n",
       "automobile     0.579   0.573456   0.579  0.574579  0.916095  0.625618   \n",
       "bird           0.579   0.573456   0.579  0.574579  0.916095  0.625618   \n",
       "cat            0.579   0.573456   0.579  0.574579  0.916095  0.625618   \n",
       "deer           0.579   0.573456   0.579  0.574579  0.916095  0.625618   \n",
       "dog            0.579   0.573456   0.579  0.574579  0.916095  0.625618   \n",
       "frog           0.579   0.573456   0.579  0.574579  0.916095  0.625618   \n",
       "horse          0.579   0.573456   0.579  0.574579  0.916095  0.625618   \n",
       "ship           0.579   0.573456   0.579  0.574579  0.916095  0.625618   \n",
       "truck          0.579   0.573456   0.579  0.574579  0.916095  0.625618   \n",
       "\n",
       "            Accuracy_per_class  Precision_per_class  Recall_per_class  \\\n",
       "airplane                 0.669             0.640805             0.669   \n",
       "automobile               0.683             0.698364             0.683   \n",
       "bird                     0.402             0.470726             0.402   \n",
       "cat                      0.392             0.426551             0.392   \n",
       "deer                     0.430             0.500582             0.430   \n",
       "dog                      0.463             0.472449             0.463   \n",
       "frog                     0.740             0.589641             0.740   \n",
       "horse                    0.626             0.613124             0.626   \n",
       "ship                     0.759             0.695692             0.759   \n",
       "truck                    0.626             0.626627             0.626   \n",
       "\n",
       "            F1_per_class  AUROC_per_class  AUPRC_per_class  \\\n",
       "airplane        0.654599         0.939190         0.720367   \n",
       "automobile      0.690597         0.960154         0.760155   \n",
       "bird            0.433657         0.847317         0.442928   \n",
       "cat             0.408546         0.862802         0.394915   \n",
       "deer            0.462614         0.883985         0.497967   \n",
       "dog             0.467677         0.892084         0.505102   \n",
       "frog            0.656319         0.944647         0.730646   \n",
       "horse           0.619495         0.930082         0.705837   \n",
       "ship            0.725968         0.962261         0.803283   \n",
       "truck           0.626313         0.938425         0.694984   \n",
       "\n",
       "                                              ConfusionMatrix  \n",
       "airplane    [669.0, 26.0, 59.0, 22.0, 15.0, 8.0, 25.0, 15....  \n",
       "automobile  [36.0, 683.0, 9.0, 11.0, 6.0, 8.0, 16.0, 12.0,...  \n",
       "bird        [75.0, 15.0, 402.0, 98.0, 120.0, 100.0, 92.0, ...  \n",
       "cat         [24.0, 18.0, 75.0, 392.0, 63.0, 207.0, 111.0, ...  \n",
       "deer        [45.0, 10.0, 120.0, 60.0, 430.0, 61.0, 129.0, ...  \n",
       "dog         [14.0, 8.0, 86.0, 190.0, 52.0, 463.0, 62.0, 99...  \n",
       "frog        [11.0, 15.0, 46.0, 51.0, 71.0, 23.0, 740.0, 21...  \n",
       "horse       [27.0, 11.0, 27.0, 61.0, 82.0, 98.0, 29.0, 626...  \n",
       "ship        [97.0, 40.0, 17.0, 20.0, 12.0, 4.0, 6.0, 4.0, ...  \n",
       "truck       [46.0, 152.0, 13.0, 14.0, 8.0, 8.0, 45.0, 27.0...  "
      ]
     },
     "execution_count": 35,
     "metadata": {},
     "output_type": "execute_result"
    }
   ],
   "source": [
    "import pandas as pd\n",
    "\n",
    "# Create a DataFrame from the metric data and display it\n",
    "df = pd.DataFrame(data=metric,index=ds.labeled_train_dataset.classes)\n",
    "df"
   ]
  },
  {
   "cell_type": "code",
   "execution_count": null,
   "metadata": {},
   "outputs": [],
   "source": []
  }
 ],
 "metadata": {
  "kernelspec": {
   "display_name": "base",
   "language": "python",
   "name": "python3"
  },
  "language_info": {
   "codemirror_mode": {
    "name": "ipython",
    "version": 3
   },
   "file_extension": ".py",
   "mimetype": "text/x-python",
   "name": "python",
   "nbconvert_exporter": "python",
   "pygments_lexer": "ipython3",
   "version": "3.10.11"
  },
  "orig_nbformat": 4
 },
 "nbformat": 4,
 "nbformat_minor": 2
}
