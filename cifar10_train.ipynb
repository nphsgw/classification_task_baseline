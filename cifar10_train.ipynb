{
 "cells": [
  {
   "cell_type": "code",
   "execution_count": 3,
   "metadata": {},
   "outputs": [],
   "source": [
    "import os\n",
    "import torch, torch.utils, torch.utils.data\n",
    "import torchvision\n",
    "import torch.backends.cudnn as cudnn\n",
    "import config, datasets,dataloaders, trainer, model_manager, inference, metric\n",
    "\n",
    "import importlib\n",
    "# importlib.reload(config)\n",
    "\n",
    "cudnn.benchmark = True"
   ]
  },
  {
   "cell_type": "code",
   "execution_count": 4,
   "metadata": {},
   "outputs": [],
   "source": [
    "# Initialize the configuration\n",
    "conf = config.Config(\n",
    "    num_classes=10,  # CIFAR10 classes\n",
    "    train_ratio=0.8,\n",
    "    val_ratio=0.2,\n",
    "    num_epochs=20,\n",
    "    lr=0.01,\n",
    "    batch_size=64,\n",
    "    num_workers=4,\n",
    "    device=torch.device(\"cuda:0\"),\n",
    "    momentum=0.0001,\n",
    "    weight_decay=0.0001,\n",
    "    train_dir=\"data/train/\",\n",
    "    test_dir=\"data/test/\",\n",
    "    log_dir=\"./log/\",\n",
    "    checkpoint_dir=\"./log/checkpoint/\",\n",
    "    metric_file_path=\"./log/metric_results.json\",\n",
    ")\n",
    "os.makedirs(conf.checkpoint_dir, exist_ok=True)"
   ]
  },
  {
   "cell_type": "code",
   "execution_count": 5,
   "metadata": {},
   "outputs": [],
   "source": [
    "# Define the data transformation pipeline for the training set\n",
    "train_transform = torchvision.transforms.Compose(\n",
    "    [\n",
    "        torchvision.transforms.RandAugment(),\n",
    "        torchvision.transforms.ToTensor(),\n",
    "        # https://github.com/facebookarchive/fb.resnet.torch/issues/180\n",
    "        torchvision.transforms.Normalize([0.4914, 0.4822, 0.4465], [0.2470, 0.2435, 0.2616]),\n",
    "    ]\n",
    ")\n",
    "# Define the data transformation pipeline for the test set\n",
    "test_transform = torchvision.transforms.Compose(\n",
    "    [\n",
    "        torchvision.transforms.ToTensor(),\n",
    "        # https://github.com/facebookarchive/fb.resnet.torch/issues/180\n",
    "        torchvision.transforms.Normalize([0.4914, 0.4822, 0.4465], [0.2470, 0.2435, 0.2616]),\n",
    "    ]\n",
    ")"
   ]
  },
  {
   "cell_type": "code",
   "execution_count": 6,
   "metadata": {},
   "outputs": [
    {
     "name": "stdout",
     "output_type": "stream",
     "text": [
      "Files already downloaded and verified\n",
      "Files already downloaded and verified\n"
     ]
    }
   ],
   "source": [
    "# Initialize a custom dataset instance for CIFAR10 with specific transformations for training and testing\n",
    "ds = datasets.CustomDatasets(\n",
    "    standard_dataset_name=\"CIFAR10\",\n",
    "    train_transform=train_transform,\n",
    "    test_transform=test_transform,\n",
    ")"
   ]
  },
  {
   "cell_type": "code",
   "execution_count": 7,
   "metadata": {},
   "outputs": [
    {
     "name": "stdout",
     "output_type": "stream",
     "text": [
      "Split train_datasets => split_train_dataset and split_val_dataset\n",
      "ratio train : val = 0.8 : 0.2\n"
     ]
    }
   ],
   "source": [
    "# Create a custom dataset loader with the specified batch size and number of worker processes\n",
    "dl = dataloaders.CustomDatasetLoader(batch_size=conf.batch_size, num_workers=conf.num_workers)\n",
    "# Split the labeled dataset into training and validation sets based on the specified ratios\n",
    "ds.split_labeled_dataset(train_ratio=conf.train_ratio, val_ratio=conf.val_ratio, enable_test_split=False)\n",
    "# Set the test transformation for the validation dataset\n",
    "ds.set_transform(ds.split_val_dataset, ds.test_transform)"
   ]
  },
  {
   "cell_type": "code",
   "execution_count": 8,
   "metadata": {},
   "outputs": [
    {
     "name": "stdout",
     "output_type": "stream",
     "text": [
      "train is set : Compose(\n",
      "    RandAugment(num_ops=2, magnitude=9, num_magnitude_bins=31, interpolation=InterpolationMode.NEAREST, fill=None)\n",
      "    ToTensor()\n",
      "    Normalize(mean=[0.4914, 0.4822, 0.4465], std=[0.247, 0.2435, 0.2616])\n",
      ")\n",
      "val is set : Compose(\n",
      "    ToTensor()\n",
      "    Normalize(mean=[0.4914, 0.4822, 0.4465], std=[0.247, 0.2435, 0.2616])\n",
      ")\n",
      "test is set : Compose(\n",
      "    ToTensor()\n",
      "    Normalize(mean=[0.4914, 0.4822, 0.4465], std=[0.247, 0.2435, 0.2616])\n",
      ")\n"
     ]
    }
   ],
   "source": [
    "# Print the transformations set for the training, validation, and test datasets\n",
    "ds.print_set_transform(ds.split_train_dataset, \"train\")\n",
    "ds.print_set_transform(ds.split_val_dataset, \"val\")\n",
    "ds.print_set_transform(ds.labeled_test_dataset, \"test\")"
   ]
  },
  {
   "cell_type": "code",
   "execution_count": 9,
   "metadata": {},
   "outputs": [],
   "source": [
    "# Build data loaders for the labeled training, validation, and test datasets\n",
    "dl.build_dataloaders(\n",
    "    labeled_train_dataset=ds.split_train_dataset,\n",
    "    labeled_val_dataset=ds.split_val_dataset,\n",
    "    labeled_test_dataset=ds.labeled_test_dataset,\n",
    "    unlabeled_test_dataset=None,\n",
    ")"
   ]
  },
  {
   "cell_type": "code",
   "execution_count": 10,
   "metadata": {},
   "outputs": [],
   "source": [
    "# Initialize a ResNet50 model without pre-trained weights\n",
    "model = torchvision.models.resnet50(weights=None)\n",
    "# Replace the fully connected layer with a new one matching the number of classes in the dataset\n",
    "model.fc = torch.nn.Linear(in_features=model.fc.in_features, out_features=conf.num_classes)\n",
    "# Initialize the loss function as CrossEntropyLoss without class weights\n",
    "loss_fn = torch.nn.CrossEntropyLoss(weight=None)\n",
    "# Initialize the optimizer as Stochastic Gradient Descent with specified learning rate, momentum, and weight decay\n",
    "optimizer = torch.optim.SGD(\n",
    "    params=model.parameters(), lr=conf.lr, momentum=conf.momentum, weight_decay=conf.weight_decay\n",
    ")\n",
    "# Calculate the total number of iterations for the learning rate scheduler\n",
    "n_iterations = len(dl.labeled_train_loader) * conf.num_epochs\n",
    "# Initialize the learning rate scheduler as CosineAnnealingLR with the total number of iterations\n",
    "lr_scheduler = torch.optim.lr_scheduler.CosineAnnealingLR(optimizer, n_iterations)\n",
    "# Initialize a ModelManager instance to handle the training, evaluation, and saving of the model\n",
    "mm = model_manager.ModelManager(\n",
    "    model=model, device=conf.device, loss_fn=loss_fn, optimizer=optimizer, lr_scheduler=lr_scheduler\n",
    ")"
   ]
  },
  {
   "cell_type": "code",
   "execution_count": 11,
   "metadata": {},
   "outputs": [],
   "source": [
    "# Initialize an ImageClassificationTrainer instance for managing the training process\n",
    "trainer = trainer.ImageClassificationTrainer(\n",
    "    model_manager=mm,\n",
    "    train_loader=dl.labeled_train_loader,\n",
    "    val_loader=dl.labeled_val_loader,\n",
    "    total_epochs=conf.num_epochs,\n",
    "    log_dir=conf.log_dir,\n",
    "    checkpoint_dir=conf.checkpoint_dir,\n",
    ")"
   ]
  },
  {
   "cell_type": "code",
   "execution_count": 12,
   "metadata": {},
   "outputs": [
    {
     "name": "stderr",
     "output_type": "stream",
     "text": [
      "100%|██████████| 20/20 [03:15<00:00,  9.79s/it]\n"
     ]
    }
   ],
   "source": [
    "# Start the training process\n",
    "trainer.train()"
   ]
  },
  {
   "cell_type": "code",
   "execution_count": 13,
   "metadata": {},
   "outputs": [
    {
     "name": "stderr",
     "output_type": "stream",
     "text": [
      "  0%|          | 0/157 [00:00<?, ?it/s]/home/developer/.local/lib/python3.10/site-packages/torcheval/metrics/functional/classification/accuracy.py:275: UserWarning: The reduce argument of torch.scatter with Tensor src is deprecated and will be removed in a future PyTorch release. Use torch.scatter_reduce instead for more reduction options. (Triggered internally at /opt/conda/conda-bld/pytorch_1682343967769/work/aten/src/ATen/native/TensorAdvancedIndexing.cpp:224.)\n",
      "  num_correct = mask.new_zeros(num_classes).scatter_(0, target, mask, reduce=\"add\")\n",
      "100%|██████████| 157/157 [00:01<00:00, 132.64it/s]\n"
     ]
    }
   ],
   "source": [
    "# Reload the inference module (useful if there have been changes during runtime)\n",
    "#importlib.reload(inference)\n",
    "\n",
    "# Load the trained model weights from the checkpoint file\n",
    "loaded_weights = torch.load(conf.checkpoint_dir + \"model_20.pth\")\n",
    "mm.model.load_state_dict(loaded_weights)\n",
    "test = inference.ImageClassifierInference(\n",
    "    model_manager=mm,\n",
    "    test_loader=dl.labeled_test_loader,\n",
    "    num_classes=conf.num_classes,\n",
    "    metric_file_path=conf.metric_file_path,\n",
    ")\n",
    "# Perform inference on the test dataset and obtain predictions\n",
    "test.predict(is_classes=True)"
   ]
  },
  {
   "cell_type": "code",
   "execution_count": 14,
   "metadata": {},
   "outputs": [
    {
     "data": {
      "text/plain": [
       "<Axes: >"
      ]
     },
     "execution_count": 14,
     "metadata": {},
     "output_type": "execute_result"
    },
    {
     "data": {
      "image/png": "[encoded data removed]",
      "text/plain": [
       "<Figure size 640x480 with 2 Axes>"
      ]
     },
     "metadata": {},
     "output_type": "display_data"
    }
   ],
   "source": [
    "import json\n",
    "import seaborn as sns\n",
    "\n",
    "# Load the computed metrics from the specified file\n",
    "with open(conf.metric_file_path) as f:\n",
    "    metric = json.loads(f.read())\n",
    "# Create a heatmap of the confusion matrix using seaborn\n",
    "sns.heatmap(metric[\"ConfusionMatrix\"], cmap=\"Blues\")"
   ]
  },
  {
   "cell_type": "code",
   "execution_count": 15,
   "metadata": {},
   "outputs": [
    {
     "data": {
      "text/html": [
       "<div>\n",
       "<style scoped>\n",
       "    .dataframe tbody tr th:only-of-type {\n",
       "        vertical-align: middle;\n",
       "    }\n",
       "\n",
       "    .dataframe tbody tr th {\n",
       "        vertical-align: top;\n",
       "    }\n",
       "\n",
       "    .dataframe thead th {\n",
       "        text-align: right;\n",
       "    }\n",
       "</style>\n",
       "<table border=\"1\" class=\"dataframe\">\n",
       "  <thead>\n",
       "    <tr style=\"text-align: right;\">\n",
       "      <th></th>\n",
       "      <th>Accuracy</th>\n",
       "      <th>Precision</th>\n",
       "      <th>Recall</th>\n",
       "      <th>F1</th>\n",
       "      <th>AUROC</th>\n",
       "      <th>AUPRC</th>\n",
       "      <th>Accuracy_per_class</th>\n",
       "      <th>Precision_per_class</th>\n",
       "      <th>Recall_per_class</th>\n",
       "      <th>F1_per_class</th>\n",
       "      <th>AUROC_per_class</th>\n",
       "      <th>AUPRC_per_class</th>\n",
       "      <th>ConfusionMatrix</th>\n",
       "    </tr>\n",
       "  </thead>\n",
       "  <tbody>\n",
       "    <tr>\n",
       "      <th>airplane</th>\n",
       "      <td>0.5934</td>\n",
       "      <td>0.590073</td>\n",
       "      <td>0.5934</td>\n",
       "      <td>0.590318</td>\n",
       "      <td>0.923752</td>\n",
       "      <td>0.648357</td>\n",
       "      <td>0.604</td>\n",
       "      <td>0.645299</td>\n",
       "      <td>0.604</td>\n",
       "      <td>0.623967</td>\n",
       "      <td>0.937037</td>\n",
       "      <td>0.699707</td>\n",
       "      <td>[604.0, 27.0, 95.0, 14.0, 20.0, 13.0, 24.0, 13...</td>\n",
       "    </tr>\n",
       "    <tr>\n",
       "      <th>automobile</th>\n",
       "      <td>0.5934</td>\n",
       "      <td>0.590073</td>\n",
       "      <td>0.5934</td>\n",
       "      <td>0.590318</td>\n",
       "      <td>0.923752</td>\n",
       "      <td>0.648357</td>\n",
       "      <td>0.703</td>\n",
       "      <td>0.712982</td>\n",
       "      <td>0.703</td>\n",
       "      <td>0.707956</td>\n",
       "      <td>0.962392</td>\n",
       "      <td>0.777533</td>\n",
       "      <td>[25.0, 703.0, 11.0, 9.0, 9.0, 12.0, 20.0, 12.0...</td>\n",
       "    </tr>\n",
       "    <tr>\n",
       "      <th>bird</th>\n",
       "      <td>0.5934</td>\n",
       "      <td>0.590073</td>\n",
       "      <td>0.5934</td>\n",
       "      <td>0.590318</td>\n",
       "      <td>0.923752</td>\n",
       "      <td>0.648357</td>\n",
       "      <td>0.469</td>\n",
       "      <td>0.480533</td>\n",
       "      <td>0.469</td>\n",
       "      <td>0.474696</td>\n",
       "      <td>0.868047</td>\n",
       "      <td>0.476583</td>\n",
       "      <td>[67.0, 6.0, 469.0, 71.0, 134.0, 84.0, 83.0, 46...</td>\n",
       "    </tr>\n",
       "    <tr>\n",
       "      <th>cat</th>\n",
       "      <td>0.5934</td>\n",
       "      <td>0.590073</td>\n",
       "      <td>0.5934</td>\n",
       "      <td>0.590318</td>\n",
       "      <td>0.923752</td>\n",
       "      <td>0.648357</td>\n",
       "      <td>0.374</td>\n",
       "      <td>0.454435</td>\n",
       "      <td>0.374</td>\n",
       "      <td>0.410313</td>\n",
       "      <td>0.868220</td>\n",
       "      <td>0.430836</td>\n",
       "      <td>[25.0, 12.0, 90.0, 374.0, 71.0, 207.0, 108.0, ...</td>\n",
       "    </tr>\n",
       "    <tr>\n",
       "      <th>deer</th>\n",
       "      <td>0.5934</td>\n",
       "      <td>0.590073</td>\n",
       "      <td>0.5934</td>\n",
       "      <td>0.590318</td>\n",
       "      <td>0.923752</td>\n",
       "      <td>0.648357</td>\n",
       "      <td>0.507</td>\n",
       "      <td>0.527027</td>\n",
       "      <td>0.507</td>\n",
       "      <td>0.516820</td>\n",
       "      <td>0.899730</td>\n",
       "      <td>0.564171</td>\n",
       "      <td>[36.0, 7.0, 108.0, 51.0, 507.0, 64.0, 100.0, 1...</td>\n",
       "    </tr>\n",
       "    <tr>\n",
       "      <th>dog</th>\n",
       "      <td>0.5934</td>\n",
       "      <td>0.590073</td>\n",
       "      <td>0.5934</td>\n",
       "      <td>0.590318</td>\n",
       "      <td>0.923752</td>\n",
       "      <td>0.648357</td>\n",
       "      <td>0.514</td>\n",
       "      <td>0.492809</td>\n",
       "      <td>0.514</td>\n",
       "      <td>0.503182</td>\n",
       "      <td>0.902015</td>\n",
       "      <td>0.528067</td>\n",
       "      <td>[15.0, 7.0, 89.0, 163.0, 67.0, 514.0, 54.0, 75...</td>\n",
       "    </tr>\n",
       "    <tr>\n",
       "      <th>frog</th>\n",
       "      <td>0.5934</td>\n",
       "      <td>0.590073</td>\n",
       "      <td>0.5934</td>\n",
       "      <td>0.590318</td>\n",
       "      <td>0.923752</td>\n",
       "      <td>0.648357</td>\n",
       "      <td>0.746</td>\n",
       "      <td>0.623746</td>\n",
       "      <td>0.746</td>\n",
       "      <td>0.679417</td>\n",
       "      <td>0.954057</td>\n",
       "      <td>0.762928</td>\n",
       "      <td>[11.0, 9.0, 54.0, 56.0, 65.0, 27.0, 746.0, 14....</td>\n",
       "    </tr>\n",
       "    <tr>\n",
       "      <th>horse</th>\n",
       "      <td>0.5934</td>\n",
       "      <td>0.590073</td>\n",
       "      <td>0.5934</td>\n",
       "      <td>0.590318</td>\n",
       "      <td>0.923752</td>\n",
       "      <td>0.648357</td>\n",
       "      <td>0.663</td>\n",
       "      <td>0.635666</td>\n",
       "      <td>0.663</td>\n",
       "      <td>0.649046</td>\n",
       "      <td>0.941143</td>\n",
       "      <td>0.743396</td>\n",
       "      <td>[28.0, 4.0, 28.0, 41.0, 68.0, 106.0, 23.0, 663...</td>\n",
       "    </tr>\n",
       "    <tr>\n",
       "      <th>ship</th>\n",
       "      <td>0.5934</td>\n",
       "      <td>0.590073</td>\n",
       "      <td>0.5934</td>\n",
       "      <td>0.590318</td>\n",
       "      <td>0.923752</td>\n",
       "      <td>0.648357</td>\n",
       "      <td>0.756</td>\n",
       "      <td>0.676813</td>\n",
       "      <td>0.756</td>\n",
       "      <td>0.714218</td>\n",
       "      <td>0.960709</td>\n",
       "      <td>0.795905</td>\n",
       "      <td>[85.0, 50.0, 22.0, 21.0, 10.0, 3.0, 9.0, 14.0,...</td>\n",
       "    </tr>\n",
       "    <tr>\n",
       "      <th>truck</th>\n",
       "      <td>0.5934</td>\n",
       "      <td>0.590073</td>\n",
       "      <td>0.5934</td>\n",
       "      <td>0.590318</td>\n",
       "      <td>0.923752</td>\n",
       "      <td>0.648357</td>\n",
       "      <td>0.598</td>\n",
       "      <td>0.651416</td>\n",
       "      <td>0.598</td>\n",
       "      <td>0.623566</td>\n",
       "      <td>0.944166</td>\n",
       "      <td>0.704443</td>\n",
       "      <td>[40.0, 161.0, 10.0, 23.0, 11.0, 13.0, 29.0, 40...</td>\n",
       "    </tr>\n",
       "  </tbody>\n",
       "</table>\n",
       "</div>"
      ],
      "text/plain": [
       "            Accuracy  Precision  Recall        F1     AUROC     AUPRC  \\\n",
       "airplane      0.5934   0.590073  0.5934  0.590318  0.923752  0.648357   \n",
       "automobile    0.5934   0.590073  0.5934  0.590318  0.923752  0.648357   \n",
       "bird          0.5934   0.590073  0.5934  0.590318  0.923752  0.648357   \n",
       "cat           0.5934   0.590073  0.5934  0.590318  0.923752  0.648357   \n",
       "deer          0.5934   0.590073  0.5934  0.590318  0.923752  0.648357   \n",
       "dog           0.5934   0.590073  0.5934  0.590318  0.923752  0.648357   \n",
       "frog          0.5934   0.590073  0.5934  0.590318  0.923752  0.648357   \n",
       "horse         0.5934   0.590073  0.5934  0.590318  0.923752  0.648357   \n",
       "ship          0.5934   0.590073  0.5934  0.590318  0.923752  0.648357   \n",
       "truck         0.5934   0.590073  0.5934  0.590318  0.923752  0.648357   \n",
       "\n",
       "            Accuracy_per_class  Precision_per_class  Recall_per_class  \\\n",
       "airplane                 0.604             0.645299             0.604   \n",
       "automobile               0.703             0.712982             0.703   \n",
       "bird                     0.469             0.480533             0.469   \n",
       "cat                      0.374             0.454435             0.374   \n",
       "deer                     0.507             0.527027             0.507   \n",
       "dog                      0.514             0.492809             0.514   \n",
       "frog                     0.746             0.623746             0.746   \n",
       "horse                    0.663             0.635666             0.663   \n",
       "ship                     0.756             0.676813             0.756   \n",
       "truck                    0.598             0.651416             0.598   \n",
       "\n",
       "            F1_per_class  AUROC_per_class  AUPRC_per_class  \\\n",
       "airplane        0.623967         0.937037         0.699707   \n",
       "automobile      0.707956         0.962392         0.777533   \n",
       "bird            0.474696         0.868047         0.476583   \n",
       "cat             0.410313         0.868220         0.430836   \n",
       "deer            0.516820         0.899730         0.564171   \n",
       "dog             0.503182         0.902015         0.528067   \n",
       "frog            0.679417         0.954057         0.762928   \n",
       "horse           0.649046         0.941143         0.743396   \n",
       "ship            0.714218         0.960709         0.795905   \n",
       "truck           0.623566         0.944166         0.704443   \n",
       "\n",
       "                                              ConfusionMatrix  \n",
       "airplane    [604.0, 27.0, 95.0, 14.0, 20.0, 13.0, 24.0, 13...  \n",
       "automobile  [25.0, 703.0, 11.0, 9.0, 9.0, 12.0, 20.0, 12.0...  \n",
       "bird        [67.0, 6.0, 469.0, 71.0, 134.0, 84.0, 83.0, 46...  \n",
       "cat         [25.0, 12.0, 90.0, 374.0, 71.0, 207.0, 108.0, ...  \n",
       "deer        [36.0, 7.0, 108.0, 51.0, 507.0, 64.0, 100.0, 1...  \n",
       "dog         [15.0, 7.0, 89.0, 163.0, 67.0, 514.0, 54.0, 75...  \n",
       "frog        [11.0, 9.0, 54.0, 56.0, 65.0, 27.0, 746.0, 14....  \n",
       "horse       [28.0, 4.0, 28.0, 41.0, 68.0, 106.0, 23.0, 663...  \n",
       "ship        [85.0, 50.0, 22.0, 21.0, 10.0, 3.0, 9.0, 14.0,...  \n",
       "truck       [40.0, 161.0, 10.0, 23.0, 11.0, 13.0, 29.0, 40...  "
      ]
     },
     "execution_count": 15,
     "metadata": {},
     "output_type": "execute_result"
    }
   ],
   "source": [
    "import pandas as pd\n",
    "\n",
    "# Create a DataFrame from the metric data and display it\n",
    "df = pd.DataFrame(data=metric,index=ds.labeled_train_dataset.classes)\n",
    "df"
   ]
  },
  {
   "cell_type": "code",
   "execution_count": null,
   "metadata": {},
   "outputs": [],
   "source": []
  }
 ],
 "metadata": {
  "kernelspec": {
   "display_name": "base",
   "language": "python",
   "name": "python3"
  },
  "language_info": {
   "codemirror_mode": {
    "name": "ipython",
    "version": 3
   },
   "file_extension": ".py",
   "mimetype": "text/x-python",
   "name": "python",
   "nbconvert_exporter": "python",
   "pygments_lexer": "ipython3",
   "version": "3.10.11"
  },
  "orig_nbformat": 4
 },
 "nbformat": 4,
 "nbformat_minor": 2
}
