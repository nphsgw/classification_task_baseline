{
 "cells": [
  {
   "cell_type": "code",
   "execution_count": 1,
   "metadata": {},
   "outputs": [],
   "source": [
    "import os\n",
    "import torch, torch.utils, torch.utils.data\n",
    "import torchvision\n",
    "import torch.backends.cudnn as cudnn\n",
    "import config, datasets,dataloaders, trainer, model_manager, inference, metric\n",
    "\n",
    "import importlib\n",
    "# importlib.reload(config)\n",
    "\n",
    "cudnn.benchmark = True"
   ]
  },
  {
   "cell_type": "code",
   "execution_count": 2,
   "metadata": {},
   "outputs": [],
   "source": [
    "# Initialize the configuration\n",
    "conf = config.Config(\n",
    "    num_classes=10,  # CIFAR10 classes\n",
    "    train_ratio=0.8,\n",
    "    val_ratio=0.2,\n",
    "    num_epochs=40,\n",
    "    lr=0.01,\n",
    "    batch_size=64,\n",
    "    num_workers=4,\n",
    "    device=torch.device(\"cuda:0\"),\n",
    "    momentum=0.0001,\n",
    "    weight_decay=0.0001,\n",
    "    train_dir=\"data/train/\",\n",
    "    test_dir=\"data/test/\",\n",
    "    log_dir=\"./log/\",\n",
    "    checkpoint_dir=\"./log/checkpoint/\",\n",
    "    metric_file_path=\"./log/metric_results.json\",\n",
    ")\n",
    "os.makedirs(conf.checkpoint_dir, exist_ok=True)"
   ]
  },
  {
   "cell_type": "code",
   "execution_count": 3,
   "metadata": {},
   "outputs": [],
   "source": [
    "# Define the data transformation pipeline for the training set\n",
    "train_transform = torchvision.transforms.Compose(\n",
    "    [\n",
    "        torchvision.transforms.RandAugment(),\n",
    "        torchvision.transforms.ToTensor(),\n",
    "        # https://github.com/facebookarchive/fb.resnet.torch/issues/180\n",
    "        torchvision.transforms.Normalize([0.4914, 0.4822, 0.4465], [0.2470, 0.2435, 0.2616]),\n",
    "    ]\n",
    ")\n",
    "# Define the data transformation pipeline for the test set\n",
    "test_transform = torchvision.transforms.Compose(\n",
    "    [\n",
    "        torchvision.transforms.ToTensor(),\n",
    "        # https://github.com/facebookarchive/fb.resnet.torch/issues/180\n",
    "        torchvision.transforms.Normalize([0.4914, 0.4822, 0.4465], [0.2470, 0.2435, 0.2616]),\n",
    "    ]\n",
    ")"
   ]
  },
  {
   "cell_type": "code",
   "execution_count": 4,
   "metadata": {},
   "outputs": [
    {
     "name": "stdout",
     "output_type": "stream",
     "text": [
      "Files already downloaded and verified\n",
      "Files already downloaded and verified\n"
     ]
    }
   ],
   "source": [
    "# Initialize a custom dataset instance for CIFAR10 with specific transformations for training and testing\n",
    "ds = datasets.CustomDatasets(\n",
    "    standard_dataset_name=\"CIFAR10\",\n",
    "    train_transform=train_transform,\n",
    "    test_transform=test_transform,\n",
    ")"
   ]
  },
  {
   "cell_type": "code",
   "execution_count": 5,
   "metadata": {},
   "outputs": [
    {
     "name": "stdout",
     "output_type": "stream",
     "text": [
      "Split train_datasets => split_train_dataset and split_val_dataset\n",
      "ratio train : val = 0.8 : 0.2\n"
     ]
    }
   ],
   "source": [
    "# Split the labeled dataset into training and validation sets based on the specified ratios\n",
    "ds.split_labeled_dataset(train_ratio=conf.train_ratio, val_ratio=conf.val_ratio, enable_test_split=False)\n",
    "# Set the test transformation for the validation dataset\n",
    "ds.set_transform(ds.split_val_dataset, ds.test_transform)"
   ]
  },
  {
   "cell_type": "code",
   "execution_count": 6,
   "metadata": {},
   "outputs": [
    {
     "name": "stdout",
     "output_type": "stream",
     "text": [
      "train is set : Compose(\n",
      "    RandAugment(num_ops=2, magnitude=9, num_magnitude_bins=31, interpolation=InterpolationMode.NEAREST, fill=None)\n",
      "    ToTensor()\n",
      "    Normalize(mean=[0.4914, 0.4822, 0.4465], std=[0.247, 0.2435, 0.2616])\n",
      ")\n",
      "val is set : Compose(\n",
      "    ToTensor()\n",
      "    Normalize(mean=[0.4914, 0.4822, 0.4465], std=[0.247, 0.2435, 0.2616])\n",
      ")\n",
      "test is set : Compose(\n",
      "    ToTensor()\n",
      "    Normalize(mean=[0.4914, 0.4822, 0.4465], std=[0.247, 0.2435, 0.2616])\n",
      ")\n"
     ]
    }
   ],
   "source": [
    "# Print the transformations set for the training, validation, and test datasets\n",
    "ds.print_set_transform(ds.split_train_dataset, \"train\")\n",
    "ds.print_set_transform(ds.split_val_dataset, \"val\")\n",
    "ds.print_set_transform(ds.labeled_test_dataset, \"test\")"
   ]
  },
  {
   "cell_type": "code",
   "execution_count": 7,
   "metadata": {},
   "outputs": [],
   "source": [
    "# Create a custom dataset loader with the specified batch size and number of worker processes\n",
    "dl = dataloaders.CustomDatasetLoader(batch_size=conf.batch_size, num_workers=conf.num_workers)\n",
    "# Build data loaders for the labeled training, validation, and test datasets\n",
    "dl.build_dataloaders(\n",
    "    labeled_train_dataset=ds.split_train_dataset,\n",
    "    labeled_val_dataset=ds.split_val_dataset,\n",
    "    labeled_test_dataset=ds.labeled_test_dataset,\n",
    "    unlabeled_test_dataset=None,\n",
    ")"
   ]
  },
  {
   "cell_type": "code",
   "execution_count": 8,
   "metadata": {},
   "outputs": [],
   "source": [
    "# Initialize a ResNet50 model without pre-trained weights\n",
    "model = torchvision.models.resnet50(weights=None)\n",
    "# Replace the fully connected layer with a new one matching the number of classes in the dataset\n",
    "model.fc = torch.nn.Linear(in_features=model.fc.in_features, out_features=conf.num_classes)\n",
    "# Initialize the loss function as CrossEntropyLoss without class weights\n",
    "loss_fn = torch.nn.CrossEntropyLoss(weight=None)\n",
    "# Initialize the optimizer as Stochastic Gradient Descent with specified learning rate, momentum, and weight decay\n",
    "optimizer = torch.optim.SGD(\n",
    "    params=model.parameters(), lr=conf.lr, momentum=conf.momentum, weight_decay=conf.weight_decay\n",
    ")\n",
    "# Calculate the total number of iterations for the learning rate scheduler\n",
    "n_iterations = len(dl.labeled_train_loader) * conf.num_epochs\n",
    "# Initialize the learning rate scheduler as CosineAnnealingLR with the total number of iterations\n",
    "lr_scheduler = torch.optim.lr_scheduler.CosineAnnealingLR(optimizer, n_iterations)\n",
    "# Initialize a ModelManager instance to handle the training, evaluation, and saving of the model\n",
    "mm = model_manager.ModelManager(\n",
    "    model=model, device=conf.device, loss_fn=loss_fn, optimizer=optimizer, lr_scheduler=lr_scheduler\n",
    ")"
   ]
  },
  {
   "cell_type": "code",
   "execution_count": 9,
   "metadata": {},
   "outputs": [],
   "source": [
    "# Initialize an ImageClassificationTrainer instance for managing the training process\n",
    "trainer = trainer.ImageClassificationTrainer(\n",
    "    model_manager=mm,\n",
    "    train_loader=dl.labeled_train_loader,\n",
    "    val_loader=dl.labeled_val_loader,\n",
    "    total_epochs=conf.num_epochs,\n",
    "    log_dir=conf.log_dir,\n",
    "    checkpoint_dir=conf.checkpoint_dir,\n",
    "    num_classes=conf.num_classes\n",
    ")"
   ]
  },
  {
   "cell_type": "code",
   "execution_count": 10,
   "metadata": {},
   "outputs": [
    {
     "name": "stderr",
     "output_type": "stream",
     "text": [
      "  0%|          | 0/40 [00:00<?, ?it/s]/home/developer/.local/lib/python3.10/site-packages/torcheval/metrics/functional/classification/accuracy.py:275: UserWarning: The reduce argument of torch.scatter with Tensor src is deprecated and will be removed in a future PyTorch release. Use torch.scatter_reduce instead for more reduction options. (Triggered internally at /opt/conda/conda-bld/pytorch_1682343967769/work/aten/src/ATen/native/TensorAdvancedIndexing.cpp:224.)\n",
      "  num_correct = mask.new_zeros(num_classes).scatter_(0, target, mask, reduce=\"add\")\n",
      "100%|██████████| 40/40 [06:21<00:00,  9.54s/it]\n"
     ]
    }
   ],
   "source": [
    "# Start the training process\n",
    "trainer.train()"
   ]
  },
  {
   "cell_type": "code",
   "execution_count": 11,
   "metadata": {},
   "outputs": [
    {
     "name": "stderr",
     "output_type": "stream",
     "text": [
      "100%|██████████| 157/157 [00:00<00:00, 157.21it/s]\n"
     ]
    }
   ],
   "source": [
    "# Reload the inference module (useful if there have been changes during runtime)\n",
    "#importlib.reload(inference)\n",
    "\n",
    "# Load the trained model weights from the checkpoint file\n",
    "loaded_weights = torch.load(conf.checkpoint_dir + \"model_20.pth\")\n",
    "mm.model.load_state_dict(loaded_weights)\n",
    "test = inference.ImageClassifierInference(\n",
    "    model_manager=mm,\n",
    "    test_loader=dl.labeled_test_loader,\n",
    "    num_classes=conf.num_classes,\n",
    "    metric_file_path=conf.metric_file_path,\n",
    ")\n",
    "# Perform inference on the test dataset and obtain predictions\n",
    "test.predict(is_classes=True)"
   ]
  },
  {
   "cell_type": "code",
   "execution_count": 12,
   "metadata": {},
   "outputs": [
    {
     "data": {
      "text/plain": [
       "<Axes: >"
      ]
     },
     "execution_count": 12,
     "metadata": {},
     "output_type": "execute_result"
    },
    {
     "data": {
      "image/png": "[encoded data removed]",
      "text/plain": [
       "<Figure size 640x480 with 2 Axes>"
      ]
     },
     "metadata": {},
     "output_type": "display_data"
    }
   ],
   "source": [
    "import json\n",
    "import seaborn as sns\n",
    "\n",
    "# Load the computed metrics from the specified file\n",
    "with open(conf.metric_file_path) as f:\n",
    "    metric = json.loads(f.read())\n",
    "# Create a heatmap of the confusion matrix using seaborn\n",
    "sns.heatmap(metric[\"ConfusionMatrix\"], cmap=\"Blues\")"
   ]
  },
  {
   "cell_type": "code",
   "execution_count": 13,
   "metadata": {},
   "outputs": [
    {
     "data": {
      "text/html": [
       "<div>\n",
       "<style scoped>\n",
       "    .dataframe tbody tr th:only-of-type {\n",
       "        vertical-align: middle;\n",
       "    }\n",
       "\n",
       "    .dataframe tbody tr th {\n",
       "        vertical-align: top;\n",
       "    }\n",
       "\n",
       "    .dataframe thead th {\n",
       "        text-align: right;\n",
       "    }\n",
       "</style>\n",
       "<table border=\"1\" class=\"dataframe\">\n",
       "  <thead>\n",
       "    <tr style=\"text-align: right;\">\n",
       "      <th></th>\n",
       "      <th>Accuracy</th>\n",
       "      <th>Precision</th>\n",
       "      <th>Recall</th>\n",
       "      <th>F1</th>\n",
       "      <th>AUROC</th>\n",
       "      <th>AUPRC</th>\n",
       "      <th>Accuracy_per_class</th>\n",
       "      <th>Precision_per_class</th>\n",
       "      <th>Recall_per_class</th>\n",
       "      <th>F1_per_class</th>\n",
       "      <th>AUROC_per_class</th>\n",
       "      <th>AUPRC_per_class</th>\n",
       "      <th>ConfusionMatrix</th>\n",
       "    </tr>\n",
       "  </thead>\n",
       "  <tbody>\n",
       "    <tr>\n",
       "      <th>airplane</th>\n",
       "      <td>0.6203</td>\n",
       "      <td>0.626732</td>\n",
       "      <td>0.6203</td>\n",
       "      <td>0.621721</td>\n",
       "      <td>0.930825</td>\n",
       "      <td>0.675371</td>\n",
       "      <td>0.710</td>\n",
       "      <td>0.609966</td>\n",
       "      <td>0.710</td>\n",
       "      <td>0.656192</td>\n",
       "      <td>0.941065</td>\n",
       "      <td>0.715010</td>\n",
       "      <td>[710.0, 18.0, 75.0, 38.0, 23.0, 7.0, 22.0, 13....</td>\n",
       "    </tr>\n",
       "    <tr>\n",
       "      <th>automobile</th>\n",
       "      <td>0.6203</td>\n",
       "      <td>0.626732</td>\n",
       "      <td>0.6203</td>\n",
       "      <td>0.621721</td>\n",
       "      <td>0.930825</td>\n",
       "      <td>0.675371</td>\n",
       "      <td>0.734</td>\n",
       "      <td>0.742915</td>\n",
       "      <td>0.734</td>\n",
       "      <td>0.738431</td>\n",
       "      <td>0.971300</td>\n",
       "      <td>0.818989</td>\n",
       "      <td>[55.0, 734.0, 3.0, 18.0, 10.0, 9.0, 9.0, 8.0, ...</td>\n",
       "    </tr>\n",
       "    <tr>\n",
       "      <th>bird</th>\n",
       "      <td>0.6203</td>\n",
       "      <td>0.626732</td>\n",
       "      <td>0.6203</td>\n",
       "      <td>0.621721</td>\n",
       "      <td>0.930825</td>\n",
       "      <td>0.675371</td>\n",
       "      <td>0.467</td>\n",
       "      <td>0.517165</td>\n",
       "      <td>0.467</td>\n",
       "      <td>0.490804</td>\n",
       "      <td>0.881257</td>\n",
       "      <td>0.518467</td>\n",
       "      <td>[86.0, 9.0, 467.0, 117.0, 117.0, 72.0, 68.0, 3...</td>\n",
       "    </tr>\n",
       "    <tr>\n",
       "      <th>cat</th>\n",
       "      <td>0.6203</td>\n",
       "      <td>0.626732</td>\n",
       "      <td>0.6203</td>\n",
       "      <td>0.621721</td>\n",
       "      <td>0.930825</td>\n",
       "      <td>0.675371</td>\n",
       "      <td>0.535</td>\n",
       "      <td>0.417969</td>\n",
       "      <td>0.535</td>\n",
       "      <td>0.469298</td>\n",
       "      <td>0.877857</td>\n",
       "      <td>0.401825</td>\n",
       "      <td>[22.0, 14.0, 77.0, 535.0, 56.0, 146.0, 66.0, 4...</td>\n",
       "    </tr>\n",
       "    <tr>\n",
       "      <th>deer</th>\n",
       "      <td>0.6203</td>\n",
       "      <td>0.626732</td>\n",
       "      <td>0.6203</td>\n",
       "      <td>0.621721</td>\n",
       "      <td>0.930825</td>\n",
       "      <td>0.675371</td>\n",
       "      <td>0.526</td>\n",
       "      <td>0.561966</td>\n",
       "      <td>0.526</td>\n",
       "      <td>0.543388</td>\n",
       "      <td>0.910014</td>\n",
       "      <td>0.597792</td>\n",
       "      <td>[35.0, 1.0, 110.0, 87.0, 526.0, 51.0, 60.0, 11...</td>\n",
       "    </tr>\n",
       "    <tr>\n",
       "      <th>dog</th>\n",
       "      <td>0.6203</td>\n",
       "      <td>0.626732</td>\n",
       "      <td>0.6203</td>\n",
       "      <td>0.621721</td>\n",
       "      <td>0.930825</td>\n",
       "      <td>0.675371</td>\n",
       "      <td>0.479</td>\n",
       "      <td>0.530454</td>\n",
       "      <td>0.479</td>\n",
       "      <td>0.503416</td>\n",
       "      <td>0.904864</td>\n",
       "      <td>0.550462</td>\n",
       "      <td>[12.0, 11.0, 68.0, 266.0, 46.0, 479.0, 31.0, 6...</td>\n",
       "    </tr>\n",
       "    <tr>\n",
       "      <th>frog</th>\n",
       "      <td>0.6203</td>\n",
       "      <td>0.626732</td>\n",
       "      <td>0.6203</td>\n",
       "      <td>0.621721</td>\n",
       "      <td>0.930825</td>\n",
       "      <td>0.675371</td>\n",
       "      <td>0.711</td>\n",
       "      <td>0.712425</td>\n",
       "      <td>0.711</td>\n",
       "      <td>0.711712</td>\n",
       "      <td>0.961920</td>\n",
       "      <td>0.793128</td>\n",
       "      <td>[18.0, 6.0, 46.0, 98.0, 65.0, 25.0, 711.0, 10....</td>\n",
       "    </tr>\n",
       "    <tr>\n",
       "      <th>horse</th>\n",
       "      <td>0.6203</td>\n",
       "      <td>0.626732</td>\n",
       "      <td>0.6203</td>\n",
       "      <td>0.621721</td>\n",
       "      <td>0.930825</td>\n",
       "      <td>0.675371</td>\n",
       "      <td>0.673</td>\n",
       "      <td>0.676382</td>\n",
       "      <td>0.673</td>\n",
       "      <td>0.674687</td>\n",
       "      <td>0.945386</td>\n",
       "      <td>0.766740</td>\n",
       "      <td>[28.0, 5.0, 29.0, 64.0, 70.0, 91.0, 16.0, 673....</td>\n",
       "    </tr>\n",
       "    <tr>\n",
       "      <th>ship</th>\n",
       "      <td>0.6203</td>\n",
       "      <td>0.626732</td>\n",
       "      <td>0.6203</td>\n",
       "      <td>0.621721</td>\n",
       "      <td>0.930825</td>\n",
       "      <td>0.675371</td>\n",
       "      <td>0.704</td>\n",
       "      <td>0.806415</td>\n",
       "      <td>0.704</td>\n",
       "      <td>0.751735</td>\n",
       "      <td>0.961677</td>\n",
       "      <td>0.827870</td>\n",
       "      <td>[140.0, 38.0, 18.0, 32.0, 17.0, 7.0, 5.0, 5.0,...</td>\n",
       "    </tr>\n",
       "    <tr>\n",
       "      <th>truck</th>\n",
       "      <td>0.6203</td>\n",
       "      <td>0.626732</td>\n",
       "      <td>0.6203</td>\n",
       "      <td>0.621721</td>\n",
       "      <td>0.930825</td>\n",
       "      <td>0.675371</td>\n",
       "      <td>0.664</td>\n",
       "      <td>0.691667</td>\n",
       "      <td>0.664</td>\n",
       "      <td>0.677551</td>\n",
       "      <td>0.952913</td>\n",
       "      <td>0.763425</td>\n",
       "      <td>[58.0, 152.0, 10.0, 25.0, 6.0, 16.0, 10.0, 28....</td>\n",
       "    </tr>\n",
       "  </tbody>\n",
       "</table>\n",
       "</div>"
      ],
      "text/plain": [
       "            Accuracy  Precision  Recall        F1     AUROC     AUPRC  \\\n",
       "airplane      0.6203   0.626732  0.6203  0.621721  0.930825  0.675371   \n",
       "automobile    0.6203   0.626732  0.6203  0.621721  0.930825  0.675371   \n",
       "bird          0.6203   0.626732  0.6203  0.621721  0.930825  0.675371   \n",
       "cat           0.6203   0.626732  0.6203  0.621721  0.930825  0.675371   \n",
       "deer          0.6203   0.626732  0.6203  0.621721  0.930825  0.675371   \n",
       "dog           0.6203   0.626732  0.6203  0.621721  0.930825  0.675371   \n",
       "frog          0.6203   0.626732  0.6203  0.621721  0.930825  0.675371   \n",
       "horse         0.6203   0.626732  0.6203  0.621721  0.930825  0.675371   \n",
       "ship          0.6203   0.626732  0.6203  0.621721  0.930825  0.675371   \n",
       "truck         0.6203   0.626732  0.6203  0.621721  0.930825  0.675371   \n",
       "\n",
       "            Accuracy_per_class  Precision_per_class  Recall_per_class  \\\n",
       "airplane                 0.710             0.609966             0.710   \n",
       "automobile               0.734             0.742915             0.734   \n",
       "bird                     0.467             0.517165             0.467   \n",
       "cat                      0.535             0.417969             0.535   \n",
       "deer                     0.526             0.561966             0.526   \n",
       "dog                      0.479             0.530454             0.479   \n",
       "frog                     0.711             0.712425             0.711   \n",
       "horse                    0.673             0.676382             0.673   \n",
       "ship                     0.704             0.806415             0.704   \n",
       "truck                    0.664             0.691667             0.664   \n",
       "\n",
       "            F1_per_class  AUROC_per_class  AUPRC_per_class  \\\n",
       "airplane        0.656192         0.941065         0.715010   \n",
       "automobile      0.738431         0.971300         0.818989   \n",
       "bird            0.490804         0.881257         0.518467   \n",
       "cat             0.469298         0.877857         0.401825   \n",
       "deer            0.543388         0.910014         0.597792   \n",
       "dog             0.503416         0.904864         0.550462   \n",
       "frog            0.711712         0.961920         0.793128   \n",
       "horse           0.674687         0.945386         0.766740   \n",
       "ship            0.751735         0.961677         0.827870   \n",
       "truck           0.677551         0.952913         0.763425   \n",
       "\n",
       "                                              ConfusionMatrix  \n",
       "airplane    [710.0, 18.0, 75.0, 38.0, 23.0, 7.0, 22.0, 13....  \n",
       "automobile  [55.0, 734.0, 3.0, 18.0, 10.0, 9.0, 9.0, 8.0, ...  \n",
       "bird        [86.0, 9.0, 467.0, 117.0, 117.0, 72.0, 68.0, 3...  \n",
       "cat         [22.0, 14.0, 77.0, 535.0, 56.0, 146.0, 66.0, 4...  \n",
       "deer        [35.0, 1.0, 110.0, 87.0, 526.0, 51.0, 60.0, 11...  \n",
       "dog         [12.0, 11.0, 68.0, 266.0, 46.0, 479.0, 31.0, 6...  \n",
       "frog        [18.0, 6.0, 46.0, 98.0, 65.0, 25.0, 711.0, 10....  \n",
       "horse       [28.0, 5.0, 29.0, 64.0, 70.0, 91.0, 16.0, 673....  \n",
       "ship        [140.0, 38.0, 18.0, 32.0, 17.0, 7.0, 5.0, 5.0,...  \n",
       "truck       [58.0, 152.0, 10.0, 25.0, 6.0, 16.0, 10.0, 28....  "
      ]
     },
     "execution_count": 13,
     "metadata": {},
     "output_type": "execute_result"
    }
   ],
   "source": [
    "import pandas as pd\n",
    "\n",
    "# Create a DataFrame from the metric data and display it\n",
    "df = pd.DataFrame(data=metric,index=ds.labeled_train_dataset.classes)\n",
    "df"
   ]
  },
  {
   "cell_type": "code",
   "execution_count": null,
   "metadata": {},
   "outputs": [],
   "source": []
  }
 ],
 "metadata": {
  "kernelspec": {
   "display_name": "base",
   "language": "python",
   "name": "python3"
  },
  "language_info": {
   "codemirror_mode": {
    "name": "ipython",
    "version": 3
   },
   "file_extension": ".py",
   "mimetype": "text/x-python",
   "name": "python",
   "nbconvert_exporter": "python",
   "pygments_lexer": "ipython3",
   "version": "3.10.11"
  },
  "orig_nbformat": 4
 },
 "nbformat": 4,
 "nbformat_minor": 2
}
